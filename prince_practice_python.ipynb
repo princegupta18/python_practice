{
 "cells": [
  {
   "cell_type": "code",
   "execution_count": 8,
   "id": "57f8c292-8042-4e1e-9ffb-95602eccc132",
   "metadata": {},
   "outputs": [
    {
     "name": "stdout",
     "output_type": "stream",
     "text": [
      "sum_list(a)\n"
     ]
    }
   ],
   "source": [
    "def sum_list(a):\n",
    "    a=[]\n",
    "    x=int(input(\"enter a list number :\"))\n",
    "    x.append in a\n",
    "    return (a)\n",
    "    \n"
   ]
  },
  {
   "cell_type": "code",
   "execution_count": 18,
   "id": "b5fc7b79-9ad8-4ec1-9e2c-17fcdf52951f",
   "metadata": {},
   "outputs": [
    {
     "name": "stdin",
     "output_type": "stream",
     "text": [
      "Enter a how much element u want to enter : 3\n",
      "enter a element here : 1\n",
      "enter a element here : 2\n",
      "enter a element here : 3\n"
     ]
    },
    {
     "name": "stdout",
     "output_type": "stream",
     "text": [
      "the list is [1, 2, 3]\n",
      "The sum of list is : 6\n"
     ]
    }
   ],
   "source": [
    "def sum_list(a):\n",
    "    a=[]\n",
    "    n=int(input(\"Enter a how much element u want to enter :\"))\n",
    "    for i in range(n):\n",
    "        x=int(input(\"enter a element here :\"))\n",
    "        a.append(x)\n",
    "    print (\"the list is\",a) \n",
    "    return sum(a)\n",
    "result = sum_list([])\n",
    "print(\"The sum of list is :\",result)\n",
    "  "
   ]
  },
  {
   "cell_type": "code",
   "execution_count": 20,
   "id": "5224728c-af47-458a-a5d7-3f233b37949d",
   "metadata": {
    "collapsed": true,
    "jupyter": {
     "outputs_hidden": true
    }
   },
   "outputs": [
    {
     "name": "stdin",
     "output_type": "stream",
     "text": [
      "Enter a how much element u want to enter : 3\n",
      "enter a element here : 1\n",
      "enter a element here : 2\n",
      "enter a element here : 3\n"
     ]
    },
    {
     "name": "stdout",
     "output_type": "stream",
     "text": [
      "the list is [1, 2, 3]\n",
      "The sum of list is : 7\n"
     ]
    }
   ],
   "source": [
    "def sum_list(a):\n",
    "    a=[]\n",
    "    n=int(input(\"Enter a how much element u want to enter :\"))\n",
    "    for i in range(n):\n",
    "        x = int(input(\"enter a element here :\"))\n",
    "        a.append(x)\n",
    "    print (\"the list is\",a) \n",
    "    sum=1\n",
    "    for x in a:\n",
    "        sum += x\n",
    "    return sum\n",
    "result = sum_list([])\n",
    "print(\"The sum of list is :\",result)\n",
    "  "
   ]
  },
  {
   "cell_type": "code",
   "execution_count": 22,
   "id": "e7850ce0-724e-4083-9597-e0713f83a510",
   "metadata": {},
   "outputs": [
    {
     "name": "stdin",
     "output_type": "stream",
     "text": [
      "Enter a how much element u want to enter : 2\n",
      "enter a element here : 3\n",
      "enter a element here : 3\n"
     ]
    },
    {
     "name": "stdout",
     "output_type": "stream",
     "text": [
      "the list is [3, 3]\n",
      "The sum of list is : 9\n"
     ]
    }
   ],
   "source": [
    "def sum_list(a):\n",
    "    a=[]\n",
    "    n=int(input(\"Enter a how much element u want to enter :\"))\n",
    "    for i in range(n):\n",
    "        x=int(input(\"enter a element here :\"))\n",
    "        a.append(x)\n",
    "    print (\"the list is\",a) \n",
    "    sum=1\n",
    "    for x in a:\n",
    "        sum *= x\n",
    "    return sum\n",
    "result = sum_list([])\n",
    "print(\"The sum of list is :\",result)\n",
    "  "
   ]
  },
  {
   "cell_type": "code",
   "execution_count": null,
   "id": "b9fa733e-1cbf-46ff-b4e9-76772bae4524",
   "metadata": {},
   "outputs": [],
   "source": [
    "def reverse_string():\n",
    "    "
   ]
  },
  {
   "cell_type": "code",
   "execution_count": null,
   "id": "1a346c08-d421-40fe-b0e3-5f22ac69519a",
   "metadata": {},
   "outputs": [],
   "source": [
    "#fctoril formula is n!is =n!*(n-1)!\n",
    "def factorial():\n",
    "    n=int(input(\"enter a factorial you want :\"))\n",
    "    for i in range(n):\n",
    "        \n",
    "    "
   ]
  },
  {
   "cell_type": "code",
   "execution_count": 23,
   "id": "f9aeb48d-7475-4d53-9b73-52101b7bcab8",
   "metadata": {},
   "outputs": [
    {
     "name": "stdin",
     "output_type": "stream",
     "text": [
      "Enter the number you want the factorial of:  4\n"
     ]
    },
    {
     "name": "stdout",
     "output_type": "stream",
     "text": [
      "Factorial: 24\n"
     ]
    }
   ],
   "source": [
    "def factorial():\n",
    "    n = int(input(\"Enter the number you want the factorial of: \"))\n",
    "    factorial_result = 1  # Initialize the factorial result to 1\n",
    "    for i in range(1, n + 1):  # Iterate from 1 to n (inclusive)\n",
    "        factorial_result *= i  # Multiply each number from 1 to n to the factorial_result\n",
    "    return factorial_result\n",
    "\n",
    "# Example usage:\n",
    "result = factorial()\n",
    "print(\"Factorial:\", result)"
   ]
  },
  {
   "cell_type": "code",
   "execution_count": null,
   "id": "a3e1f87d-c173-497a-b55a-ad62057ff26c",
   "metadata": {},
   "outputs": [],
   "source": []
  }
 ],
 "metadata": {
  "kernelspec": {
   "display_name": "Python 3 (ipykernel)",
   "language": "python",
   "name": "python3"
  },
  "language_info": {
   "codemirror_mode": {
    "name": "ipython",
    "version": 3
   },
   "file_extension": ".py",
   "mimetype": "text/x-python",
   "name": "python",
   "nbconvert_exporter": "python",
   "pygments_lexer": "ipython3",
   "version": "3.12.2"
  }
 },
 "nbformat": 4,
 "nbformat_minor": 5
}
